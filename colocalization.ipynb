{
 "cells": [
  {
   "cell_type": "code",
   "execution_count": null,
   "id": "dda13f88",
   "metadata": {},
   "outputs": [],
   "source": [
    "library(TwoSampleMR)\n",
    "library(MRInstruments)\n",
    "library(data.table)\n",
    "library(tidyverse)\n",
    "library(coloc)\n",
    "library(readr)\n",
    "source('pathway/Get_MR-main/2.0/Get_MR2.0.r')\n",
    "###################\n",
    "setwd('you/pathway/CJD')"
   ]
  },
  {
   "cell_type": "code",
   "execution_count": null,
   "id": "9b46e9c4",
   "metadata": {},
   "outputs": [],
   "source": [
    "## input outcome\n",
    "phenofile<-\"GCST90001389_buildGRCh37_rsID.tsv.gz\" \n",
    "pheno <- fread(phenofile) %>% select(name,chromosome,base_pair_location,effect_allele,other_allele,beta,standard_error,p_value,effect_allele_frequency)\n",
    "colnames(pheno) <- c('SNP','Chr','Pos','A1_effect','A2_other','beta_EUR','se_EUR','P_EUR','EAF_EUR') \n",
    "pheno <- pheno[order(pheno$Chr,pheno$Pos),]\n",
    "pheno$CHR = \"chr\"\n",
    "pheno<-pheno %>% unite(\"Chrom\",CHR,Chr,sep = \"\",remove = FALSE)\n",
    "\n"
   ]
  },
  {
   "cell_type": "code",
   "execution_count": null,
   "id": "311e3116",
   "metadata": {},
   "outputs": [],
   "source": [
    "## input pqtlfile\n",
    "pqtlfile <- 'BannerBBDP_DLPFC_pQTLs.csv'\n",
    "protein<-fread(pqtlfile)\n",
    "head(protein)\n",
    "protein<-subset(protein,genes == 'STX6')"
   ]
  },
  {
   "cell_type": "code",
   "execution_count": null,
   "id": "08d71660",
   "metadata": {},
   "outputs": [],
   "source": [
    "## if lack of rsID then add rsID\n",
    "protein$`chromosome:start` <- paste(protein$CHR, protein$POS,sep=':')\n",
    "hg19 <- fread(file='/media/dai/devC/.jmm_project/brain_gut_MR_project/data/snp150_hg19.txt.gz',header=T,sep='\\t',data.table=F)\n",
    "data_hg19=dplyr::left_join(protein,hg19,by=\"chromosome:start\")"
   ]
  },
  {
   "cell_type": "code",
   "execution_count": null,
   "id": "93fe1a7b",
   "metadata": {},
   "outputs": [],
   "source": [
    "## change the format\n",
    "protein<-protein[complete.cases(protein),]\n",
    "exposure <- format_data(\n",
    " data_hg19,\n",
    " type='exposure',\n",
    " snp_col = 'name',\n",
    " beta_col = \"BETA\",\n",
    " se_col = \"SE\",\n",
    " effect_allele_col =\"A1\",\n",
    " other_allele_col = \"REF\",\n",
    " pval_col = \"P\",\n",
    " chr_col = 'X.CHROM',\n",
    "    pos_col = 'POS',\n",
    "    id_col = 'chromosome:start'\n",
    "  )\n"
   ]
  },
  {
   "cell_type": "code",
   "execution_count": null,
   "id": "4a9bbb6e",
   "metadata": {},
   "outputs": [],
   "source": [
    "## if lack of eaf\n",
    "eaf_gwas <- get_eaf_from_1000G(exposure,'LD_data_and_frep_1000g',type='exposure')\n",
    "QTL_data1 <- eaf_gwas[complete.cases(eaf_gwas),]\n",
    "QTL_data1$CHR_name <- \"chr\"\n",
    "QTL_data1 <- QTL_data1 %>% unite(\"Chrom\",CHR_name,CHR,sep = \"\",remove = FALSE)\n"
   ]
  },
  {
   "cell_type": "code",
   "execution_count": null,
   "id": "3cfe0f24",
   "metadata": {},
   "outputs": [],
   "source": [
    "################### make lead SNP data\n",
    "data_cut8 <- subset(QTL_data1,QTL_data1$pval.exposure<5e-08) \n",
    "exposure_clump <- clean_expo(data_cut8, 5e-08, clump = TRUE, kb = 10000, r2 = 0.001,LD_file='LD_data_and_frep_1000g/1kg.v3/EUR')\n",
    "## add the leadSNP location\n",
    "exposure_clump<-read.csv(leadfile,header = T)\n",
    "exposure_clump$CHR1 <- \"chr\"\n",
    "exposure_clump<-newlead %>% unite(\"Chrom\",CHR1,CHR,sep = \"\",remove = FALSE)\n",
    "exposure_clump$start <- exposure_clump$pos.exposure-1000000\n",
    "exposure_clump$end <- exposure_clump$pos.exposure+1000000\n",
    "\n",
    "write.csv(exposure_clump,file='pQTL_lead_SNP_stx6.csv')\n"
   ]
  },
  {
   "cell_type": "code",
   "execution_count": null,
   "id": "b666bf4d",
   "metadata": {},
   "outputs": [],
   "source": [
    "\n",
    "### if more than 1 leadSNP\n",
    "for (i in 1:length(exposure_clump$start)){\n",
    "  filename <- paste0(exposure_clump$SNP[i],\"-locus.csv\")\n",
    "  temp<-QTL_data1[which(QTL_data1$Chrom == exposure_clump$Chrom[i]),]\n",
    "  temp<-temp[which(temp$pos.exposure >= exposure_clump$start[i] & temp$pos.exposure <= exposure_clump$end[i]),]\n",
    "  write.csv(temp,filename,quote = FALSE,row.names = FALSE)\n",
    "}\n",
    "\n"
   ]
  },
  {
   "cell_type": "code",
   "execution_count": null,
   "id": "8bcbda43",
   "metadata": {},
   "outputs": [],
   "source": [
    "## colocalization!\n",
    "locifile<-list.files(pattern = \"*locus.csv\")\n",
    "for (t in 1:length(locifile)){\n",
    "  rfile  <- locifile[t]\n",
    "  loci<-read.csv(rfile,header = T)\n",
    "  if(dim(loci)[1]==0){\n",
    "    next\n",
    "  }\n",
    "  input<-merge(loci,pheno,by.x = \"SNP\",by.y = \"SNP\",suffixes\n",
    "               =c(\"_loci\",\"_pheno\"))\n",
    "  input = input[order(input$SNP,input$pval.exposure),] \n",
    "  input=input %>% distinct(input$SNP, .keep_all = TRUE) \n",
    "  ## harmonise\n",
    "  for (linenum in 1:length(input$SNP)){\n",
    "    ifelse(input$effect_allele.exposure[linenum] == input$A1_effect[linenum], next, input$beta.exposure[linenum] <- -as.numeric(input$beta.exposure[linenum]))\n",
    "  }\n",
    "  wfile<-gsub(\"-locus.csv\",\"-locus-coloc.csv\",rfile)\n",
    "  write.csv(input,wfile,quote = FALSE,row.names = FALSE) \n",
    "    \n",
    "  ## coloc   ###'cc's=case/(case+controls)\n",
    "  mypheno = list(pvalues=input$P_EUR, varbeta = input$se_EUR^2,MAF = input$EAF_EUR,beta = input$beta_EUR,type=\"cc\",s=0.232479, N=17679,snp = input$SNP)\n",
    "  mypqtl = list(pvalues\n",
    "              =input$pval.exposure,beta = input$beta.exposure,varbeta = input$se.exposure^2,MAF = input$eaf.exposure,type = \"quant\",N = 380,snp = input$SNP)\n",
    "  my.res<-coloc.abf(dataset1 = mypqtl,dataset2 = mypheno)\n",
    "  lociname<-gsub(\"-locus.csv\",\"\",rfile)\n",
    "  df<-as.data.frame(my.res$summary)\n",
    "  colnames(df)<-lociname\n",
    "  df<-t(df)\n",
    "  write.table(df,\"coloc-res.tsv\",sep = \"\\t\", append = TRUE,quote = FALSE,row.names = TRUE)\n",
    "}\n",
    "\n",
    "\n"
   ]
  }
 ],
 "metadata": {
  "kernelspec": {
   "display_name": "R",
   "language": "R",
   "name": "ir"
  },
  "language_info": {
   "codemirror_mode": "r",
   "file_extension": ".r",
   "mimetype": "text/x-r-source",
   "name": "R",
   "pygments_lexer": "r",
   "version": "4.2.0"
  }
 },
 "nbformat": 4,
 "nbformat_minor": 5
}
