{
 "cells": [
  {
   "cell_type": "code",
   "execution_count": null,
   "id": "915adb48",
   "metadata": {},
   "outputs": [],
   "source": [
    "# read .rds file\n",
    "library(data.table)\n",
    "data <- readRDS(\"your/pathway/CELLECT/Human_brain_cell_atlas/data/Spinal_cord.rds\")\n",
    "#head(data)"
   ]
  },
  {
   "cell_type": "code",
   "execution_count": null,
   "id": "9d645c80",
   "metadata": {},
   "outputs": [],
   "source": [
    "##  make metadata\n",
    "celltype <- data$cell_type \n",
    "celltype <- as.data.frame(celltype)\n",
    "head(celltype)\n",
    "dim(celltype)\n",
    "write.csv(celltype,file='your/pathway/CELLECT/Human_brain_cell_atlas/data/metadata_Spinal_cord.csv')"
   ]
  },
  {
   "cell_type": "code",
   "execution_count": null,
   "id": "80987063",
   "metadata": {},
   "outputs": [],
   "source": [
    "# read RNA raw data\n",
    "rna_data <- GetAssayData(data, assay = \"RNA\")\n"
   ]
  },
  {
   "cell_type": "code",
   "execution_count": null,
   "id": "bd13af14",
   "metadata": {},
   "outputs": [],
   "source": [
    "# write\n",
    "matrix_df <- as.data.frame(as.matrix(rna_data))\n",
    "write.csv(matrix_df,file='your/pathway/CELLECT/Human_brain_cell_atlas/data/Spinal_cord_gene.csv')"
   ]
  }
 ],
 "metadata": {
  "kernelspec": {
   "display_name": "R",
   "language": "R",
   "name": "ir"
  },
  "language_info": {
   "codemirror_mode": "r",
   "file_extension": ".r",
   "mimetype": "text/x-r-source",
   "name": "R",
   "pygments_lexer": "r",
   "version": "4.2.0"
  }
 },
 "nbformat": 4,
 "nbformat_minor": 5
}
