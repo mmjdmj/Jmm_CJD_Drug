{
 "cells": [
  {
   "cell_type": "code",
   "execution_count": 7,
   "id": "67923ab8",
   "metadata": {},
   "outputs": [],
   "source": [
    "library(data.table)\n",
    "library(TwoSampleMR)\n",
    "library(dplyr)\n",
    "library(stringr)"
   ]
  },
  {
   "cell_type": "code",
   "execution_count": 6,
   "id": "2cab6770",
   "metadata": {},
   "outputs": [
    {
     "data": {
      "text/html": [
       "<table class=\"dataframe\">\n",
       "<caption>A data.table: 6 × 15</caption>\n",
       "<thead>\n",
       "\t<tr><th scope=col>SNP</th><th scope=col>chr.exposure</th><th scope=col>pos.exposure</th><th scope=col>effect_allele.exposure</th><th scope=col>other_allele.exposure</th><th scope=col>eaf.exposure</th><th scope=col>beta.exposure</th><th scope=col>se.exposure</th><th scope=col>pval.exposure</th><th scope=col>exposure</th><th scope=col>mr_keep.exposure</th><th scope=col>pval_origin.exposure</th><th scope=col>id.exposure</th><th scope=col>samplesize.exposure</th><th scope=col>group</th></tr>\n",
       "\t<tr><th scope=col>&lt;chr&gt;</th><th scope=col>&lt;chr&gt;</th><th scope=col>&lt;int&gt;</th><th scope=col>&lt;chr&gt;</th><th scope=col>&lt;chr&gt;</th><th scope=col>&lt;dbl&gt;</th><th scope=col>&lt;dbl&gt;</th><th scope=col>&lt;dbl&gt;</th><th scope=col>&lt;dbl&gt;</th><th scope=col>&lt;chr&gt;</th><th scope=col>&lt;lgl&gt;</th><th scope=col>&lt;chr&gt;</th><th scope=col>&lt;chr&gt;</th><th scope=col>&lt;int&gt;</th><th scope=col>&lt;chr&gt;</th></tr>\n",
       "</thead>\n",
       "<tbody>\n",
       "\t<tr><td>rs505922  </td><td>9 </td><td>136149229</td><td>C</td><td>T</td><td>0.313</td><td> 1.298</td><td>0.014</td><td>1.0e-200</td><td>Blood_Zheng2020_pQTL_ABO </td><td>TRUE</td><td>reported</td><td>LgH5VA</td><td>3301</td><td>Blood_Zheng2020_p</td></tr>\n",
       "\t<tr><td>rs4344    </td><td>17</td><td> 61566724</td><td>A</td><td>G</td><td>0.499</td><td>-0.583</td><td>0.425</td><td>8.5e-136</td><td>Blood_Zheng2020_pQTL_ACE </td><td>TRUE</td><td>reported</td><td>3eU1Rv</td><td>3200</td><td>Blood_Zheng2020_p</td></tr>\n",
       "\t<tr><td>rs4727469 </td><td>7 </td><td>100509163</td><td>C</td><td>T</td><td>0.524</td><td>-0.297</td><td>0.463</td><td> 7.5e-37</td><td>Blood_Zheng2020_pQTL_ACHE</td><td>TRUE</td><td>reported</td><td>pxl3CF</td><td>3200</td><td>Blood_Zheng2020_p</td></tr>\n",
       "\t<tr><td>rs11553746</td><td>2 </td><td>   272203</td><td>T</td><td>C</td><td>0.325</td><td> 1.237</td><td>0.026</td><td>1.0e-200</td><td>Blood_Zheng2020_pQTL_ACP1</td><td>TRUE</td><td>reported</td><td>SM7429</td><td> 996</td><td>Blood_Zheng2020_p</td></tr>\n",
       "\t<tr><td>rs79061565</td><td>19</td><td> 11698659</td><td>G</td><td>C</td><td>0.123</td><td>-0.485</td><td>0.036</td><td> 1.6e-40</td><td>Blood_Zheng2020_pQTL_ACP5</td><td>TRUE</td><td>reported</td><td>CgRhmO</td><td>3301</td><td>Blood_Zheng2020_p</td></tr>\n",
       "\t<tr><td>rs2153463 </td><td>1 </td><td>147124310</td><td>G</td><td>T</td><td>0.739</td><td> 0.944</td><td>0.695</td><td>1.0e-200</td><td>Blood_Zheng2020_pQTL_ACP6</td><td>TRUE</td><td>reported</td><td>KLTPoh</td><td>3200</td><td>Blood_Zheng2020_p</td></tr>\n",
       "</tbody>\n",
       "</table>\n"
      ],
      "text/latex": [
       "A data.table: 6 × 15\n",
       "\\begin{tabular}{lllllllllllllll}\n",
       " SNP & chr.exposure & pos.exposure & effect\\_allele.exposure & other\\_allele.exposure & eaf.exposure & beta.exposure & se.exposure & pval.exposure & exposure & mr\\_keep.exposure & pval\\_origin.exposure & id.exposure & samplesize.exposure & group\\\\\n",
       " <chr> & <chr> & <int> & <chr> & <chr> & <dbl> & <dbl> & <dbl> & <dbl> & <chr> & <lgl> & <chr> & <chr> & <int> & <chr>\\\\\n",
       "\\hline\n",
       "\t rs505922   & 9  & 136149229 & C & T & 0.313 &  1.298 & 0.014 & 1.0e-200 & Blood\\_Zheng2020\\_pQTL\\_ABO  & TRUE & reported & LgH5VA & 3301 & Blood\\_Zheng2020\\_p\\\\\n",
       "\t rs4344     & 17 &  61566724 & A & G & 0.499 & -0.583 & 0.425 & 8.5e-136 & Blood\\_Zheng2020\\_pQTL\\_ACE  & TRUE & reported & 3eU1Rv & 3200 & Blood\\_Zheng2020\\_p\\\\\n",
       "\t rs4727469  & 7  & 100509163 & C & T & 0.524 & -0.297 & 0.463 &  7.5e-37 & Blood\\_Zheng2020\\_pQTL\\_ACHE & TRUE & reported & pxl3CF & 3200 & Blood\\_Zheng2020\\_p\\\\\n",
       "\t rs11553746 & 2  &    272203 & T & C & 0.325 &  1.237 & 0.026 & 1.0e-200 & Blood\\_Zheng2020\\_pQTL\\_ACP1 & TRUE & reported & SM7429 &  996 & Blood\\_Zheng2020\\_p\\\\\n",
       "\t rs79061565 & 19 &  11698659 & G & C & 0.123 & -0.485 & 0.036 &  1.6e-40 & Blood\\_Zheng2020\\_pQTL\\_ACP5 & TRUE & reported & CgRhmO & 3301 & Blood\\_Zheng2020\\_p\\\\\n",
       "\t rs2153463  & 1  & 147124310 & G & T & 0.739 &  0.944 & 0.695 & 1.0e-200 & Blood\\_Zheng2020\\_pQTL\\_ACP6 & TRUE & reported & KLTPoh & 3200 & Blood\\_Zheng2020\\_p\\\\\n",
       "\\end{tabular}\n"
      ],
      "text/markdown": [
       "\n",
       "A data.table: 6 × 15\n",
       "\n",
       "| SNP &lt;chr&gt; | chr.exposure &lt;chr&gt; | pos.exposure &lt;int&gt; | effect_allele.exposure &lt;chr&gt; | other_allele.exposure &lt;chr&gt; | eaf.exposure &lt;dbl&gt; | beta.exposure &lt;dbl&gt; | se.exposure &lt;dbl&gt; | pval.exposure &lt;dbl&gt; | exposure &lt;chr&gt; | mr_keep.exposure &lt;lgl&gt; | pval_origin.exposure &lt;chr&gt; | id.exposure &lt;chr&gt; | samplesize.exposure &lt;int&gt; | group &lt;chr&gt; |\n",
       "|---|---|---|---|---|---|---|---|---|---|---|---|---|---|---|\n",
       "| rs505922   | 9  | 136149229 | C | T | 0.313 |  1.298 | 0.014 | 1.0e-200 | Blood_Zheng2020_pQTL_ABO  | TRUE | reported | LgH5VA | 3301 | Blood_Zheng2020_p |\n",
       "| rs4344     | 17 |  61566724 | A | G | 0.499 | -0.583 | 0.425 | 8.5e-136 | Blood_Zheng2020_pQTL_ACE  | TRUE | reported | 3eU1Rv | 3200 | Blood_Zheng2020_p |\n",
       "| rs4727469  | 7  | 100509163 | C | T | 0.524 | -0.297 | 0.463 |  7.5e-37 | Blood_Zheng2020_pQTL_ACHE | TRUE | reported | pxl3CF | 3200 | Blood_Zheng2020_p |\n",
       "| rs11553746 | 2  |    272203 | T | C | 0.325 |  1.237 | 0.026 | 1.0e-200 | Blood_Zheng2020_pQTL_ACP1 | TRUE | reported | SM7429 |  996 | Blood_Zheng2020_p |\n",
       "| rs79061565 | 19 |  11698659 | G | C | 0.123 | -0.485 | 0.036 |  1.6e-40 | Blood_Zheng2020_pQTL_ACP5 | TRUE | reported | CgRhmO | 3301 | Blood_Zheng2020_p |\n",
       "| rs2153463  | 1  | 147124310 | G | T | 0.739 |  0.944 | 0.695 | 1.0e-200 | Blood_Zheng2020_pQTL_ACP6 | TRUE | reported | KLTPoh | 3200 | Blood_Zheng2020_p |\n",
       "\n"
      ],
      "text/plain": [
       "  SNP        chr.exposure pos.exposure effect_allele.exposure\n",
       "1 rs505922   9            136149229    C                     \n",
       "2 rs4344     17            61566724    A                     \n",
       "3 rs4727469  7            100509163    C                     \n",
       "4 rs11553746 2               272203    T                     \n",
       "5 rs79061565 19            11698659    G                     \n",
       "6 rs2153463  1            147124310    G                     \n",
       "  other_allele.exposure eaf.exposure beta.exposure se.exposure pval.exposure\n",
       "1 T                     0.313         1.298        0.014       1.0e-200     \n",
       "2 G                     0.499        -0.583        0.425       8.5e-136     \n",
       "3 T                     0.524        -0.297        0.463        7.5e-37     \n",
       "4 C                     0.325         1.237        0.026       1.0e-200     \n",
       "5 C                     0.123        -0.485        0.036        1.6e-40     \n",
       "6 T                     0.739         0.944        0.695       1.0e-200     \n",
       "  exposure                  mr_keep.exposure pval_origin.exposure id.exposure\n",
       "1 Blood_Zheng2020_pQTL_ABO  TRUE             reported             LgH5VA     \n",
       "2 Blood_Zheng2020_pQTL_ACE  TRUE             reported             3eU1Rv     \n",
       "3 Blood_Zheng2020_pQTL_ACHE TRUE             reported             pxl3CF     \n",
       "4 Blood_Zheng2020_pQTL_ACP1 TRUE             reported             SM7429     \n",
       "5 Blood_Zheng2020_pQTL_ACP5 TRUE             reported             CgRhmO     \n",
       "6 Blood_Zheng2020_pQTL_ACP6 TRUE             reported             KLTPoh     \n",
       "  samplesize.exposure group            \n",
       "1 3301                Blood_Zheng2020_p\n",
       "2 3200                Blood_Zheng2020_p\n",
       "3 3200                Blood_Zheng2020_p\n",
       "4  996                Blood_Zheng2020_p\n",
       "5 3301                Blood_Zheng2020_p\n",
       "6 3200                Blood_Zheng2020_p"
      ]
     },
     "metadata": {},
     "output_type": "display_data"
    },
    {
     "data": {
      "text/html": [
       "<style>\n",
       ".list-inline {list-style: none; margin:0; padding: 0}\n",
       ".list-inline>li {display: inline-block}\n",
       ".list-inline>li:not(:last-child)::after {content: \"\\00b7\"; padding: 0 .5ex}\n",
       "</style>\n",
       "<ol class=list-inline><li>190359</li><li>15</li></ol>\n"
      ],
      "text/latex": [
       "\\begin{enumerate*}\n",
       "\\item 190359\n",
       "\\item 15\n",
       "\\end{enumerate*}\n"
      ],
      "text/markdown": [
       "1. 190359\n",
       "2. 15\n",
       "\n",
       "\n"
      ],
      "text/plain": [
       "[1] 190359     15"
      ]
     },
     "metadata": {},
     "output_type": "display_data"
    }
   ],
   "source": [
    "### input all the IVs (exposure data)\n",
    "workdir <- '/pathway/for/MR'\n",
    "setwd(workdir)\n",
    "exposure_data <- fread('combined_brain_blood_xQTL_clumped_IVs_jmm_MHCout.csv')\n",
    "head(exposure_data)\n",
    "dim(exposure_data)"
   ]
  },
  {
   "cell_type": "code",
   "execution_count": null,
   "id": "4bc54a99",
   "metadata": {},
   "outputs": [],
   "source": [
    "### input outcome data\n",
    "cjd_gwas <- fread('GCST90001389_buildGRCh37_rsID.tsv.gz')\n",
    "merC <- merge(exposure_data,cjd_gwas,by.x = 'SNP', by.y = 'name')    \n",
    "outcome_data <-format_data(\n",
    "  merC,\n",
    "  type = 'outcome',\n",
    "  snps = exposure_data$SNP,\n",
    "  snp_col = 'SNP',\n",
    "  beta_col = 'beta',\n",
    "  se_col = 'standard_error',\n",
    "  effect_allele_col = 'effect_allele',\n",
    "  other_allele_col = 'other_allele',\n",
    "  pval_col = 'p_value')  \n"
   ]
  },
  {
   "cell_type": "code",
   "execution_count": null,
   "id": "cac92d88",
   "metadata": {},
   "outputs": [],
   "source": [
    "### harmonise\n",
    "H_data <- harmonise_data(\n",
    "  exposure_dat = exposure_data,\n",
    "  outcome_dat = outcome_data,\n",
    "  action = 2\n",
    ")\n",
    "write.csv(H_data,file='Harmo_CJD_all_xQTL.csv',row.names = FALSE)\n"
   ]
  },
  {
   "cell_type": "code",
   "execution_count": null,
   "id": "3bce98ca",
   "metadata": {},
   "outputs": [],
   "source": [
    "# steiger_filtering\n",
    "H_data <- fread('Harmo_CJD_all_mQTL.csv')\n",
    "H_data <- steiger_filtering(H_data)\n",
    "H_data <- subset(H_data,H_data$steiger_dir == 'TRUE')\n",
    "\n"
   ]
  },
  {
   "cell_type": "code",
   "execution_count": null,
   "id": "6b97b1f7",
   "metadata": {},
   "outputs": [],
   "source": [
    "# MR analysis\n",
    "mr_results<-generate_odds_ratios(mr(H_data,\n",
    "    method_list=c('mr_egger_regression_bootstrap',\"mr_wald_ratio\", \"mr_ivw\", \"mr_weighted_median\", \"mr_weighted_mode\",'mr_two_sample_ml')))\n",
    "mr_results$outcome <- 'sCJD'\n",
    "mr_results <- mr_results[,c(-1,-2)]\n",
    "write.csv(mr_results,file='MRresults_CJD_all_mQTL.csv',row.names = FALSE)\n",
    "\n"
   ]
  },
  {
   "cell_type": "code",
   "execution_count": null,
   "id": "0e7bc42e",
   "metadata": {},
   "outputs": [],
   "source": [
    "## pleiotropy_test\n",
    "mr_pleio <- mr_pleiotropy_test(H_data)\n",
    "    if (length(mr_pleio) > 0) {\n",
    "      mr_pleio$outcome <- 'sCJD'\n",
    "      mr_pleio <- mr_pleio[, c(-1, -2)]\n",
    "    }\n",
    "write.csv(mr_pleio,file'MRpleio_CJD_all_mQTL.csv',row.names = FALSE)\n",
    "\n"
   ]
  },
  {
   "cell_type": "code",
   "execution_count": null,
   "id": "988a6a47",
   "metadata": {},
   "outputs": [],
   "source": [
    "## heterogeneity\n",
    "mr_het <- mr_heterogeneity(H_data)\n",
    "    if (length(mr_het) > 0) {\n",
    "      mr_het$outcome <- 'sCJD'\n",
    "      mr_het <- mr_het[, c(-1, -2)]\n",
    "    }\n",
    "write.csv(mr_het,file='MRhet_CJD_all_mQTL.csv',row.names = FALSE)"
   ]
  },
  {
   "cell_type": "code",
   "execution_count": null,
   "id": "dec818bb",
   "metadata": {},
   "outputs": [],
   "source": [
    "### FDR adjustment\n",
    "outresult <- fread('MRresults_CJD_all_mQTL.csv')\n",
    "\n",
    "split_cols <- strsplit(outresult$exposure, \"_\")\n",
    "outresult$group <- sapply(split_cols, function(x) paste(x[-length(x)], collapse = \"_\"))\n",
    "outresult <- outresult %>% \n",
    "  mutate(group = gsub(\"Blood_GTEx_eQTL_Whole_Blood.*\", \"Blood_GTEx_eQTL_Whole_Blood\", group)) %>%\n",
    "  mutate(group = gsub(\"Brain_GTEx_eQTL_Cerebellum.*\", \"Brain_GTEx_eQTL_Cerebellum\", group)) %>%\n",
    "  mutate(group = gsub(\"Brain_GTEx_eQTL_Cortex.*\", \"Brain_GTEx_eQTL_Cortex\", group)) %>%\n",
    "  mutate(group = gsub(\"Brain_GTEx_eQTL_Cerebellar_Hemisphere.*\", \"Brain_GTEx_eQTL_Cerebellar_Hemisphere\", group)) %>%\n",
    "  mutate(group = gsub(\"Brain_GTEx_eQTL_Hippocampus.*\", \"Brain_GTEx_eQTL_Hippocampus\", group)) %>%\n",
    "  mutate(group = gsub(\"Brain_GTEx_eQTL_Nucleus_accumbens_basal_ganglia.*\", \"Brain_GTEx_eQTL_Nucleus_accumbens_basal_ganglia\", group)) %>%\n",
    "  mutate(group = gsub(\"Brain_GTEx_eQTL_Putamen_basal_ganglia.*\", \"Brain_GTEx_eQTL_Putamen_basal_ganglia\", group)) %>%\n",
    "  mutate(group = gsub(\"Brain_PsychENCODE_eqtl.*\", \"Brain_PsychENCODE_eqtl\", group)) %>%\n",
    "  mutate(group = gsub(\"Brain_BrainMeta_eqtl.*\",  \"Brain_BrainMeta_eqtl\", group))\n",
    "      \n",
    "outresult_only <- subset(outresult,method == 'Wald ratio'| method == 'Inverse variance weighted')\n",
    "\n",
    "outresult_only <- outresult_only %>% \n",
    "  group_by(group) %>% \n",
    "  mutate(FDR_Pvalue = p.adjust(pval, method = \"fdr\"))\n",
    "fdrout <- subset(outresult_only,FDR_Pvalue < 0.05)\n",
    "newdat <- outresult_only[,c(2,14)]\n",
    "merged_df <- merge(outresult, newdat, by = \"exposure\", all.x = TRUE, allow.cartesian = TRUE, nomatch = NA)\n",
    "\n",
    "write.csv(merged_df,file='TSMR_risk_CJD_FDR.csv',row.names=FALSE)\n",
    "write.csv(fdrout,file='TSMR_risk_CJD_FDR005.csv',row.names=FALSE)\n"
   ]
  }
 ],
 "metadata": {
  "kernelspec": {
   "display_name": "R",
   "language": "R",
   "name": "ir"
  },
  "language_info": {
   "codemirror_mode": "r",
   "file_extension": ".r",
   "mimetype": "text/x-r-source",
   "name": "R",
   "pygments_lexer": "r",
   "version": "4.2.0"
  }
 },
 "nbformat": 4,
 "nbformat_minor": 5
}
